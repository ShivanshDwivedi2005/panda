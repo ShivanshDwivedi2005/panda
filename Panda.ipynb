{
 "cells": [
  {
   "cell_type": "code",
   "execution_count": 1,
   "id": "a0a46110-f3d1-4cd5-9048-2dd92fba04b8",
   "metadata": {},
   "outputs": [
    {
     "name": "stdout",
     "output_type": "stream",
     "text": [
      "Requirement already satisfied: pandas in c:\\users\\shiva\\anaconda3\\lib\\site-packages (2.2.2)\n",
      "Requirement already satisfied: numpy>=1.26.0 in c:\\users\\shiva\\anaconda3\\lib\\site-packages (from pandas) (1.26.4)\n",
      "Requirement already satisfied: python-dateutil>=2.8.2 in c:\\users\\shiva\\anaconda3\\lib\\site-packages (from pandas) (2.9.0.post0)\n",
      "Requirement already satisfied: pytz>=2020.1 in c:\\users\\shiva\\anaconda3\\lib\\site-packages (from pandas) (2024.1)\n",
      "Requirement already satisfied: tzdata>=2022.7 in c:\\users\\shiva\\anaconda3\\lib\\site-packages (from pandas) (2023.3)\n",
      "Requirement already satisfied: six>=1.5 in c:\\users\\shiva\\anaconda3\\lib\\site-packages (from python-dateutil>=2.8.2->pandas) (1.16.0)\n",
      "Note: you may need to restart the kernel to use updated packages.\n"
     ]
    }
   ],
   "source": [
    "pip install pandas"
   ]
  },
  {
   "cell_type": "code",
   "execution_count": 8,
   "id": "d6e6a9d9-1d58-41d7-89a9-2fafe3c6275f",
   "metadata": {},
   "outputs": [],
   "source": [
    "import pandas as pd"
   ]
  },
  {
   "cell_type": "markdown",
   "id": "05d739db-8e80-4416-92e3-cb5871e06529",
   "metadata": {},
   "source": [
    "pandas works on basically 3 data frames\n",
    "1. Series(1D), rows,\n",
    "2. Data Frames (2D), rows and columns\n",
    "3. 3 Panel(3D)"
   ]
  },
  {
   "cell_type": "markdown",
   "id": "b5e3dea5-724d-4c81-a229-f1c253d3e9b7",
   "metadata": {},
   "source": [
    "* Pandas objects can be thought of as improved versions of NumPy structured arrays at the fundamental level in which the rows and columns are recognized with labels instead of simple integer indices"
   ]
  },
  {
   "cell_type": "code",
   "execution_count": 12,
   "id": "626cc76e-ab02-433c-817f-40275dffc8ab",
   "metadata": {},
   "outputs": [],
   "source": [
    "import numpy as np"
   ]
  },
  {
   "cell_type": "code",
   "execution_count": 44,
   "id": "9e621271-c8fc-4670-a0e1-deb72197d774",
   "metadata": {},
   "outputs": [
    {
     "name": "stdout",
     "output_type": "stream",
     "text": [
      "1      one\n",
      "2      two\n",
      "3    three\n",
      "4     four\n",
      "5     five\n",
      "dtype: object\n",
      "one      1.0\n",
      "two      2.0\n",
      "three    3.0\n",
      "four     4.0\n",
      "five     5.0\n",
      "dtype: float64\n",
      "[1. 2. 3. 4. 5.] ['one' 'two' 'three' 'four' 'five']\n"
     ]
    }
   ],
   "source": [
    "a = [1,2,3,4,5]\n",
    "b = (\"one\",\"two\",\"three\",\"four\",\"five\")\n",
    "x = pd.Series(a,index = b,dtype = float)\n",
    "y = pd.Series(b,index = a, dtype = str)\n",
    "print(y)\n",
    "print(x)\n",
    "print(x.values,y.values)\n",
    "# value and index can be tuple , list , ..."
   ]
  },
  {
   "cell_type": "code",
   "execution_count": 36,
   "id": "5ad0a197-87a6-4a68-a8a8-9f072929bc12",
   "metadata": {},
   "outputs": [
    {
     "name": "stdout",
     "output_type": "stream",
     "text": [
      "one\n",
      "3.0\n"
     ]
    }
   ],
   "source": [
    "print(y[1])\n",
    "print(x[\"three\"])"
   ]
  },
  {
   "cell_type": "markdown",
   "id": "d5816787-db92-415c-99d1-27803ae70799",
   "metadata": {},
   "source": [
    "* The pandas Series is much more general as well as flexible as fcompared to 1-D NumPy array that it emulates\n",
    "*               Series as generalized NumPy array\n",
    "* the Series object is basically interchangeble with a 1-D NumPy array\n",
    "* The Significant difference is the presence of the index: whereas the NumPy Array has an implicitly defined integer index used in order to obtain the values, the Pandas Series has a clead-cut defined index associated with the values\n",
    "* If no index is given in pandas series it will automatically take defaul series values\n",
    "* Index need not be necessarly integer it can be anything i.e string."
   ]
  },
  {
   "cell_type": "code",
   "execution_count": 56,
   "id": "13067f7a-e8a2-4898-8eab-1672b10c40ff",
   "metadata": {},
   "outputs": [
    {
     "name": "stdout",
     "output_type": "stream",
     "text": [
      "shivansh    56\n",
      "aditya      43\n",
      "saurabh     54\n",
      "sumit       42\n",
      "amit        32\n",
      "dtype: int32\n"
     ]
    }
   ],
   "source": [
    "y = pd.Series([56,43,54,42,32],index = [\"shivansh\",\"aditya\",\"saurabh\",\"sumit\",\"amit\"],dtype = int)\n",
    "print(y)"
   ]
  },
  {
   "cell_type": "markdown",
   "id": "7b06175c-e293-4d35-a4e2-4c155346db12",
   "metadata": {},
   "source": [
    "#  creating series from dictionary\n",
    "Series as specialized dictionary. A dictionary is a structure which maps arbitrary jkey to a collection of arbitarary values as well as a Series is a structure which maps typed keys to a set of typed values\n",
    "This typing is significant: just as the type-specific compiled compiled code behind a Numpy array makes it more well-irganized than a Python list for certain oiperations."
   ]
  },
  {
   "cell_type": "markdown",
   "id": "f56b9405-6da1-4917-be8c-810f49c24fd4",
   "metadata": {},
   "source": [
    "* Note: values are used by default as series elements & keys as index Dictionary is a mapping data type, We cannot manupulate index in as we do in case o flist and tuples"
   ]
  },
  {
   "cell_type": "code",
   "execution_count": 72,
   "id": "d7f08c1e-68ef-4983-892b-4e3512f9b269",
   "metadata": {},
   "outputs": [
    {
     "name": "stdout",
     "output_type": "stream",
     "text": [
      "{'ram': 32, 'shivansh': 19, 'satyam': 18, 'om': 18}\n",
      "ram         32\n",
      "shivansh    19\n",
      "satyam      18\n",
      "om          18\n",
      "dtype: int32\n",
      "ram         32\n",
      "shivansh    19\n",
      "satyam      18\n",
      "om          18\n",
      "dtype: int64\n",
      "ram         32.0\n",
      "shivansh    19.0\n",
      "satyam      18.0\n",
      "om          18.0\n",
      "saurabh      NaN\n",
      "dtype: float64\n"
     ]
    }
   ],
   "source": [
    "age = {\"ram\":32,\"shivansh\":19,\"satyam\":18,\"om\":18}\n",
    "s = pd.Series(age, index = [\"ram\",\"shivansh\",\"satyam\",\"om\"],dtype = int)\n",
    "print(age)\n",
    "print(s)\n",
    "t = pd.Series(age)\n",
    "print(t)\n",
    "z = pd.Series(age, index = [\"ram\",\"shivansh\",\"satyam\",\"om\",\"saurabh\"],dtype = int)\n",
    "print(z)  ## missing values is filled by NAN adn index taken by keys"
   ]
  },
  {
   "cell_type": "code",
   "execution_count": 76,
   "id": "d1189620-e069-4982-a831-de1e41553e82",
   "metadata": {},
   "outputs": [
    {
     "name": "stdout",
     "output_type": "stream",
     "text": [
      "ram         32.0\n",
      "shivansh    19.0\n",
      "satyam      18.0\n",
      "dtype: float64\n",
      "ram         32.0\n",
      "shivansh    19.0\n",
      "satyam      18.0\n",
      "om          18.0\n",
      "saurabh      NaN\n",
      "dtype: float64\n",
      "ram         32.0\n",
      "shivansh    19.0\n",
      "satyam      18.0\n",
      "dtype: float64\n"
     ]
    }
   ],
   "source": [
    "print(z['ram':'satyam'])\n",
    "print(z['ram':])\n",
    "print(z[:'satyam'])"
   ]
  },
  {
   "cell_type": "code",
   "execution_count": 78,
   "id": "ffb2f07b-4bfe-472c-91c3-7b81ea04be4a",
   "metadata": {},
   "outputs": [
    {
     "name": "stdout",
     "output_type": "stream",
     "text": [
      "ashwani   NaN\n",
      "rohit     NaN\n",
      "nikhil    NaN\n",
      "dtype: float64\n"
     ]
    }
   ],
   "source": [
    "# if there is no match it will return NAN\n",
    "age = {\"ram\":32,\"shivansh\":19,\"satyam\":18,\"om\":18}\n",
    "a1 = pd.Series(age,index = [\"ashwani\",\"rohit\",\"nikhil\"])\n",
    "print(a1)"
   ]
  },
  {
   "cell_type": "markdown",
   "id": "5f0107ca-92eb-4297-8ae4-08c906f749c0",
   "metadata": {},
   "source": [
    "*  note: Missing value is filled by NAN & index takn by keys"
   ]
  },
  {
   "cell_type": "code",
   "execution_count": 94,
   "id": "8848c21e-029a-4495-9d87-cd2811b4a6e3",
   "metadata": {},
   "outputs": [
    {
     "name": "stdout",
     "output_type": "stream",
     "text": [
      "    Name  Age         City\n",
      "0   John   25     New York\n",
      "1  Alice   30  Los Angeles\n",
      "2    Bob   22      Chicago\n"
     ]
    }
   ],
   "source": [
    "import pandas as pd\n",
    "\n",
    "data = {\n",
    "    'Name': ['John', 'Alice', 'Bob'],\n",
    "    'Age': [25, 30, 22],\n",
    "    'City': ['New York', 'Los Angeles', 'Chicago']\n",
    "}\n",
    "\n",
    "df = pd.DataFrame(data)\n",
    "print(df)\n"
   ]
  },
  {
   "cell_type": "code",
   "execution_count": 96,
   "id": "36c0d035-acfe-4556-85f1-5d7e51f93370",
   "metadata": {},
   "outputs": [
    {
     "name": "stdout",
     "output_type": "stream",
     "text": [
      "    Name  Age           City\n",
      "1  Alice   30    Los Angeles\n",
      "3   Sara   27  San Francisco\n"
     ]
    }
   ],
   "source": [
    "import pandas as pd\n",
    "data = {\n",
    "    'Name': ['John', 'Alice', 'Bob', 'Sara'],\n",
    "    'Age': [25, 30, 22, 27],\n",
    "    'City': ['New York', 'Los Angeles', 'Chicago', 'San Francisco']\n",
    "}\n",
    "df = pd.DataFrame(data)\n",
    "\n",
    "# Filter by Age\n",
    "filtered_df = df[df['Age'] > 25]\n",
    "print(filtered_df)\n"
   ]
  },
  {
   "cell_type": "code",
   "execution_count": 98,
   "id": "c9a57bc8-3e1f-46ad-9150-08d0cda3dee1",
   "metadata": {},
   "outputs": [
    {
     "name": "stdout",
     "output_type": "stream",
     "text": [
      "    Name  Age         City\n",
      "0   John   25     New York\n",
      "1  Alice   30  Los Angeles\n",
      "2    Bob   22      Chicago\n"
     ]
    }
   ],
   "source": [
    "import pandas as pd\n",
    "\n",
    "data1 = {\n",
    "    'Name': ['John', 'Alice', 'Bob'],\n",
    "    'Age': [25, 30, 22]\n",
    "}\n",
    "data2 = {\n",
    "    'Name': ['John', 'Alice', 'Bob'],\n",
    "    'City': ['New York', 'Los Angeles', 'Chicago']}\n",
    "df1 = pd.DataFrame(data1)\n",
    "df2 = pd.DataFrame(data2)\n",
    "\n",
    "# Merge on 'Name' column\n",
    "merged_df = pd.merge(df1, df2, on='Name')\n",
    "print(merged_df)\n"
   ]
  },
  {
   "cell_type": "code",
   "execution_count": null,
   "id": "a73d1e64-049a-4feb-9883-5de13a2606ad",
   "metadata": {},
   "outputs": [],
   "source": []
  }
 ],
 "metadata": {
  "kernelspec": {
   "display_name": "Python [conda env:base] *",
   "language": "python",
   "name": "conda-base-py"
  },
  "language_info": {
   "codemirror_mode": {
    "name": "ipython",
    "version": 3
   },
   "file_extension": ".py",
   "mimetype": "text/x-python",
   "name": "python",
   "nbconvert_exporter": "python",
   "pygments_lexer": "ipython3",
   "version": "3.12.7"
  }
 },
 "nbformat": 4,
 "nbformat_minor": 5
}
